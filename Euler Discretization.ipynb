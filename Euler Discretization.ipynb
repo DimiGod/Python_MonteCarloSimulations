{
 "cells": [
  {
   "cell_type": "code",
   "execution_count": 1,
   "metadata": {},
   "outputs": [],
   "source": [
    "import numpy as np\n",
    "import pandas as pd\n",
    "from pandas_datareader import data as web\n",
    "from scipy.stats import norm\n",
    "import matplotlib.pyplot as plt\n",
    "%matplotlib inline"
   ]
  },
  {
   "cell_type": "code",
   "execution_count": 2,
   "metadata": {},
   "outputs": [],
   "source": [
    "ticker = 'PG'\n",
    "data = pd.DataFrame()\n",
    "data[ticker] = web.DataReader(ticker, data_source='yahoo', start='2007-1-1', end='2017-3-21')['Adj Close']"
   ]
  },
  {
   "cell_type": "code",
   "execution_count": 3,
   "metadata": {},
   "outputs": [],
   "source": [
    "log_returns = np.log(1 + data.pct_change())"
   ]
  },
  {
   "cell_type": "code",
   "execution_count": 4,
   "metadata": {},
   "outputs": [],
   "source": [
    "r = 0.025"
   ]
  },
  {
   "cell_type": "code",
   "execution_count": 5,
   "metadata": {},
   "outputs": [
    {
     "data": {
      "text/plain": [
       "PG    0.176518\n",
       "dtype: float64"
      ]
     },
     "execution_count": 5,
     "metadata": {},
     "output_type": "execute_result"
    }
   ],
   "source": [
    "stdev = log_returns.std() * 250 ** 0.5\n",
    "stdev"
   ]
  },
  {
   "cell_type": "code",
   "execution_count": 6,
   "metadata": {},
   "outputs": [
    {
     "data": {
      "text/plain": [
       "pandas.core.series.Series"
      ]
     },
     "execution_count": 6,
     "metadata": {},
     "output_type": "execute_result"
    }
   ],
   "source": [
    "type(stdev)"
   ]
  },
  {
   "cell_type": "code",
   "execution_count": 7,
   "metadata": {},
   "outputs": [
    {
     "data": {
      "text/plain": [
       "array([0.17651769])"
      ]
     },
     "execution_count": 7,
     "metadata": {},
     "output_type": "execute_result"
    }
   ],
   "source": [
    "stdev = stdev.values\n",
    "stdev"
   ]
  },
  {
   "cell_type": "code",
   "execution_count": 8,
   "metadata": {},
   "outputs": [],
   "source": [
    "T = 1.0\n",
    "t_intervals = 250\n",
    "delta_t= T / t_intervals\n",
    "\n",
    "iterations = 10000"
   ]
  },
  {
   "cell_type": "code",
   "execution_count": 9,
   "metadata": {},
   "outputs": [],
   "source": [
    "Z = np.random.standard_normal((t_intervals + 1, iterations))\n",
    "S = np.zeros_like(Z)\n",
    "S0 = data.iloc[-1]\n",
    "S[0] = S0"
   ]
  },
  {
   "cell_type": "code",
   "execution_count": 10,
   "metadata": {},
   "outputs": [],
   "source": [
    "for t in range(1, t_intervals + 1):\n",
    "    S[t] = S[t-1] * np.exp((r - 0.5 * stdev ** 2) * delta_t + stdev * delta_t ** 0.5 *Z[t])"
   ]
  },
  {
   "cell_type": "code",
   "execution_count": 11,
   "metadata": {},
   "outputs": [
    {
     "data": {
      "text/plain": [
       "array([[ 83.05924988,  83.05924988,  83.05924988, ...,  83.05924988,\n",
       "         83.05924988,  83.05924988],\n",
       "       [ 82.32503776,  84.37674293,  83.99417268, ...,  83.83979093,\n",
       "         84.12585518,  83.36584839],\n",
       "       [ 82.44555865,  84.79474776,  84.4803816 , ...,  82.68299591,\n",
       "         83.12156337,  84.35009881],\n",
       "       ...,\n",
       "       [ 75.30550379, 119.45538033,  83.31699456, ...,  74.50831768,\n",
       "        107.59607997,  88.41050061],\n",
       "       [ 74.3574003 , 118.9352543 ,  84.35102353, ...,  72.08560276,\n",
       "        106.01706556,  89.07732815],\n",
       "       [ 75.2036785 , 118.38232156,  83.79899962, ...,  72.64249581,\n",
       "        107.50983082,  89.69495881]])"
      ]
     },
     "execution_count": 11,
     "metadata": {},
     "output_type": "execute_result"
    }
   ],
   "source": [
    "S"
   ]
  },
  {
   "cell_type": "code",
   "execution_count": null,
   "metadata": {},
   "outputs": [],
   "source": []
  }
 ],
 "metadata": {
  "kernelspec": {
   "display_name": "Python 3",
   "language": "python",
   "name": "python3"
  },
  "language_info": {
   "codemirror_mode": {
    "name": "ipython",
    "version": 3
   },
   "file_extension": ".py",
   "mimetype": "text/x-python",
   "name": "python",
   "nbconvert_exporter": "python",
   "pygments_lexer": "ipython3",
   "version": "3.7.4"
  }
 },
 "nbformat": 4,
 "nbformat_minor": 2
}
